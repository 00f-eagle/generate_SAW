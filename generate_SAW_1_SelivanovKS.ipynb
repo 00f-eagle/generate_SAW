{
 "cells": [
  {
   "cell_type": "code",
   "execution_count": 1,
   "metadata": {},
   "outputs": [],
   "source": [
    "steps = [(1, 0), (-1, 0), (0, 1), (0, -1)]"
   ]
  },
  {
   "cell_type": "code",
   "execution_count": 2,
   "metadata": {},
   "outputs": [],
   "source": [
    "def generate_walks_stored(path, L, cache):\n",
    "    if L == 0:\n",
    "        cache.append(path)\n",
    "    else:\n",
    "        for dx, dy in steps:\n",
    "            x, y = path[-1]\n",
    "            xy_new = (x + dx, y + dy)\n",
    "            if xy_new in path:\n",
    "                continue\n",
    "            pp = path.copy()\n",
    "            pp.append(xy_new)\n",
    "            generate_walks_stored(pp, L - 1, cache)"
   ]
  },
  {
   "cell_type": "code",
   "execution_count": 3,
   "metadata": {},
   "outputs": [],
   "source": [
    "path = [(0, 0)]\n",
    "L = 12\n",
    "cache = []\n",
    "generate_walks_stored(path, L, cache)"
   ]
  },
  {
   "cell_type": "code",
   "execution_count": 15,
   "metadata": {},
   "outputs": [
    {
     "name": "stdout",
     "output_type": "stream",
     "text": [
      "324932.0\n"
     ]
    }
   ],
   "source": [
    "r = 0\n",
    "rr = 0\n",
    "x1, y1 = path[0]\n",
    "for i in cache:\n",
    "    for j in range(len(i)-1):\n",
    "        x1, y1 = i[j]\n",
    "        x2, y2 = i[j+1]\n",
    "        r = ((x2 - x1) ** 2 + (y2 - y1) ** 2) ** 0.5\n",
    "        x1, y1 = i[j+1]\n",
    "        rr += r"
   ]
  },
  {
   "cell_type": "code",
   "execution_count": 16,
   "metadata": {},
   "outputs": [
    {
     "name": "stdout",
     "output_type": "stream",
     "text": [
      "The mean square end-to-end distance of SAWs of the length 12 is 1.0\n"
     ]
    }
   ],
   "source": [
    "print('The mean square end-to-end distance of SAWs of the length', L, 'is', (rr / len(cache)) ** 0.5)"
   ]
  },
  {
   "cell_type": "code",
   "execution_count": 9,
   "metadata": {},
   "outputs": [
    {
     "name": "stdout",
     "output_type": "stream",
     "text": [
      "Walks: 324932\n"
     ]
    }
   ],
   "source": [
    "print('Walks:', len(cache))"
   ]
  },
  {
   "cell_type": "code",
   "execution_count": null,
   "metadata": {},
   "outputs": [],
   "source": []
  }
 ],
 "metadata": {
  "kernelspec": {
   "display_name": "Python 3",
   "language": "python",
   "name": "python3"
  },
  "language_info": {
   "codemirror_mode": {
    "name": "ipython",
    "version": 3
   },
   "file_extension": ".py",
   "mimetype": "text/x-python",
   "name": "python",
   "nbconvert_exporter": "python",
   "pygments_lexer": "ipython3",
   "version": "3.7.3"
  }
 },
 "nbformat": 4,
 "nbformat_minor": 2
}
